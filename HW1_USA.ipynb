{
 "cells": [
  {
   "cell_type": "code",
   "execution_count": 1,
   "metadata": {},
   "outputs": [],
   "source": [
    "import numpy as np  # useful for many scientific computing in Python\n",
    "import pandas as pd # primary data structure library\n",
    "import matplotlib as mpl\n",
    "import matplotlib.pyplot as plt"
   ]
  },
  {
   "cell_type": "code",
   "execution_count": 2,
   "metadata": {},
   "outputs": [
    {
     "name": "stdout",
     "output_type": "stream",
     "text": [
      "Requirement already satisfied: gdown in c:\\users\\ikeni\\anaconda3\\lib\\site-packages (4.5.3)\n"
     ]
    },
    {
     "name": "stderr",
     "output_type": "stream",
     "text": [
      "\n",
      "[notice] A new release of pip available: 22.2.2 -> 22.3\n",
      "[notice] To update, run: python.exe -m pip install --upgrade pip\n"
     ]
    },
    {
     "name": "stdout",
     "output_type": "stream",
     "text": [
      "Requirement already satisfied: requests[socks] in c:\\users\\ikeni\\anaconda3\\lib\\site-packages (from gdown) (2.26.0)\n",
      "Requirement already satisfied: tqdm in c:\\users\\ikeni\\anaconda3\\lib\\site-packages (from gdown) (4.62.3)\n",
      "Requirement already satisfied: filelock in c:\\users\\ikeni\\anaconda3\\lib\\site-packages (from gdown) (3.3.1)\n",
      "Requirement already satisfied: beautifulsoup4 in c:\\users\\ikeni\\anaconda3\\lib\\site-packages (from gdown) (4.10.0)\n",
      "Requirement already satisfied: six in c:\\users\\ikeni\\anaconda3\\lib\\site-packages (from gdown) (1.16.0)\n",
      "Requirement already satisfied: soupsieve>1.2 in c:\\users\\ikeni\\anaconda3\\lib\\site-packages (from beautifulsoup4->gdown) (2.2.1)\n",
      "Requirement already satisfied: idna<4,>=2.5 in c:\\users\\ikeni\\anaconda3\\lib\\site-packages (from requests[socks]->gdown) (3.2)\n",
      "Requirement already satisfied: urllib3<1.27,>=1.21.1 in c:\\users\\ikeni\\anaconda3\\lib\\site-packages (from requests[socks]->gdown) (1.26.7)\n",
      "Requirement already satisfied: certifi>=2017.4.17 in c:\\users\\ikeni\\anaconda3\\lib\\site-packages (from requests[socks]->gdown) (2021.10.8)\n",
      "Requirement already satisfied: charset-normalizer~=2.0.0 in c:\\users\\ikeni\\anaconda3\\lib\\site-packages (from requests[socks]->gdown) (2.0.4)\n",
      "Requirement already satisfied: PySocks!=1.5.7,>=1.5.6 in c:\\users\\ikeni\\anaconda3\\lib\\site-packages (from requests[socks]->gdown) (1.7.1)\n",
      "Requirement already satisfied: colorama in c:\\users\\ikeni\\anaconda3\\lib\\site-packages (from tqdm->gdown) (0.4.4)\n"
     ]
    },
    {
     "name": "stderr",
     "output_type": "stream",
     "text": [
      "Downloading...\n",
      "From: https://drive.google.com/uc?id=16vZpn51OWRyTPSMmSrwF4HySFEdCVS3d\n",
      "To: c:\\Users\\ikeni\\OneDrive\\Desktop\\Code\\Numpytesting\\Data Visualization.py\\USA.xlsx\n",
      "\n",
      "  0%|          | 0.00/244k [00:00<?, ?B/s]\n",
      "100%|██████████| 244k/244k [00:00<00:00, 1.66MB/s]\n",
      "100%|██████████| 244k/244k [00:00<00:00, 1.66MB/s]\n",
      "Downloading...\n",
      "From: https://drive.google.com/uc?id=1NYp-nCPhMZPBEhJ__5znZrHAdGZ6x-T3\n",
      "To: c:\\Users\\ikeni\\OneDrive\\Desktop\\Code\\Numpytesting\\Data Visualization.py\\Canada.xlsx\n",
      "\n",
      "  0%|          | 0.00/235k [00:00<?, ?B/s]\n",
      "100%|██████████| 235k/235k [00:00<00:00, 481kB/s]\n",
      "100%|██████████| 235k/235k [00:00<00:00, 481kB/s]\n"
     ]
    }
   ],
   "source": [
    "!pip install gdown\n",
    "!gdown https://drive.google.com/uc?id=16vZpn51OWRyTPSMmSrwF4HySFEdCVS3d\n",
    "!gdown https://drive.google.com/uc?id=1NYp-nCPhMZPBEhJ__5znZrHAdGZ6x-T3\n"
   ]
  },
  {
   "cell_type": "code",
   "execution_count": 3,
   "metadata": {},
   "outputs": [
    {
     "name": "stdout",
     "output_type": "stream",
     "text": [
      "Data for USA read into a pandas dataframe!\n"
     ]
    }
   ],
   "source": [
    "df_usa = pd.read_excel(\n",
    "    './USA.xlsx',\n",
    "    sheet_name='USA by Place of birth',\n",
    "    skiprows=range(20),\n",
    "    skipfooter=2)\n",
    "print('Data for USA read into a pandas dataframe!')"
   ]
  },
  {
   "cell_type": "markdown",
   "metadata": {},
   "source": [
    "Cleaning data by dropping uneeded columns"
   ]
  },
  {
   "cell_type": "code",
   "execution_count": 4,
   "metadata": {},
   "outputs": [],
   "source": [
    "df_usa.drop(['AREA', 'REG', 'DEV', 'Type', 'Coverage'], axis=1, inplace=True)\n",
    "df_usa.rename(columns={'OdName':'Country','AreaName':'Continent','RegName':'Region'},inplace=True)"
   ]
  },
  {
   "cell_type": "markdown",
   "metadata": {},
   "source": [
    "Set country as index"
   ]
  },
  {
   "cell_type": "code",
   "execution_count": 5,
   "metadata": {},
   "outputs": [],
   "source": [
    "df_usa.set_index('Country',inplace=True)\n",
    "years=list(range(1980,2014))"
   ]
  },
  {
   "cell_type": "markdown",
   "metadata": {},
   "source": [
    "Replace non numerical values in the dataset with 0"
   ]
  },
  {
   "cell_type": "code",
   "execution_count": 6,
   "metadata": {},
   "outputs": [],
   "source": [
    "df_usa.replace(\"..\", 0, inplace = True)\n",
    "df_usa.replace(\"D\", 0, inplace = True)\n",
    "df_usa.replace(\"-\", 0, inplace = True)"
   ]
  },
  {
   "cell_type": "markdown",
   "metadata": {},
   "source": [
    "Set a range of years from 1980 to 2013"
   ]
  },
  {
   "cell_type": "code",
   "execution_count": null,
   "metadata": {},
   "outputs": [],
   "source": [
    "years=list(range(1980,2014))\n",
    "df_usa.head()"
   ]
  },
  {
   "cell_type": "markdown",
   "metadata": {},
   "source": [
    "Create a Total column for the sum of immigrants"
   ]
  },
  {
   "cell_type": "code",
   "execution_count": null,
   "metadata": {},
   "outputs": [],
   "source": [
    "df_usa['Total']=df_usa.sum(axis=1, numeric_only = True)\n",
    "df_usa.head()"
   ]
  },
  {
   "cell_type": "markdown",
   "metadata": {},
   "source": [
    "Sort the totals in descending order"
   ]
  },
  {
   "cell_type": "code",
   "execution_count": null,
   "metadata": {},
   "outputs": [],
   "source": [
    "df_usa.sort_values(['Total'],ascending=False, axis=0, inplace=True)\n",
    "df_usa.head()"
   ]
  },
  {
   "cell_type": "markdown",
   "metadata": {},
   "source": [
    "Create a totals row for countries"
   ]
  },
  {
   "cell_type": "code",
   "execution_count": null,
   "metadata": {},
   "outputs": [],
   "source": [
    "a = df_usa.sum(numeric_only = True)\n",
    "df_usa.loc['Row_Total']= a\n",
    "print(df_usa.tail())"
   ]
  },
  {
   "cell_type": "markdown",
   "metadata": {},
   "source": [
    "Creat a line of code for the top 5 countries"
   ]
  },
  {
   "cell_type": "code",
   "execution_count": null,
   "metadata": {},
   "outputs": [],
   "source": [
    "df_usa_top5=df_usa.head()\n",
    "df_usa_top5=df_usa_top5[years]\n",
    "df_usa_top5=df_usa_top5.transpose()\n",
    "df_usa_top5"
   ]
  },
  {
   "cell_type": "markdown",
   "metadata": {},
   "source": [
    "Create a totals column for the years"
   ]
  },
  {
   "cell_type": "code",
   "execution_count": null,
   "metadata": {},
   "outputs": [],
   "source": [
    "df_usa_top5['Total']=df_usa_top5.sum(axis=1, numeric_only = True)\n",
    "df_usa_top5.head()"
   ]
  },
  {
   "cell_type": "markdown",
   "metadata": {},
   "source": [
    "Create a line plot to display the top 5 countries' immigration to the US by year and the total immigration for each year"
   ]
  },
  {
   "cell_type": "code",
   "execution_count": null,
   "metadata": {},
   "outputs": [],
   "source": [
    "df_usa_top5.plot(figsize=(15,8))"
   ]
  },
  {
   "cell_type": "markdown",
   "metadata": {},
   "source": [
    "Plot a totals line for the top 5 countries' immigration to the USA by year"
   ]
  },
  {
   "cell_type": "code",
   "execution_count": 25,
   "metadata": {},
   "outputs": [
    {
     "data": {
      "image/png": "[encoded data removed]",
      "text/plain": [
       "<Figure size 1080x576 with 1 Axes>"
      ]
     },
     "metadata": {
      "needs_background": "light"
     },
     "output_type": "display_data"
    }
   ],
   "source": [
    "df_usa_top5['Total'].plot(figsize=(15,8))\n",
    "plt.title('Top 5 Countries with Immigrants in USA')\n",
    "plt.ylabel('Number of Immigrants')\n",
    "plt.xlabel('Years')\n",
    "plt.legend(loc=2, prop={'size':10})\n",
    "plt.show()"
   ]
  }
 ],
 "metadata": {
  "kernelspec": {
   "display_name": "Python 3.9.7 ('base')",
   "language": "python",
   "name": "python3"
  },
  "language_info": {
   "codemirror_mode": {
    "name": "ipython",
    "version": 3
   },
   "file_extension": ".py",
   "mimetype": "text/x-python",
   "name": "python",
   "nbconvert_exporter": "python",
   "pygments_lexer": "ipython3",
   "version": "3.9.7"
  },
  "orig_nbformat": 4,
  "vscode": {
   "interpreter": {
    "hash": "17695244022bbdc3e5ddb19177bba3f0cc4d88635cd87a7b1aa95fd8119dd476"
   }
  }
 },
 "nbformat": 4,
 "nbformat_minor": 2
}
